{
 "cells": [
  {
   "cell_type": "code",
   "execution_count": 1,
   "id": "ebcc5628",
   "metadata": {},
   "outputs": [],
   "source": [
    "from collections import namedtuple\n",
    "\n",
    "import imageio\n",
    "import matplotlib.pyplot as plt\n",
    "import numpy as np\n",
    "import skimage\n",
    "import SimpleITK as sitk\n",
    "\n",
    "from scipy import ndimage\n",
    "from scipy.spatial.transform import Rotation as R\n",
    "\n",
    "Status = namedtuple(\"Status\", [\"stop_condition\", \"num_iterations\", \"metric_value\"])\n",
    "Transform = namedtuple(\"Transform\", [\"translation\", \"rotation_euler_degrees\"])"
   ]
  },
  {
   "cell_type": "code",
   "execution_count": 2,
   "id": "2131a0f4",
   "metadata": {},
   "outputs": [],
   "source": [
    "def register_3d(fixed_image, moving_image):\n",
    "    \n",
    "    # Convert from numpy to sitk format.\n",
    "    fixed_image = sitk.GetImageFromArray(fixed_image.astype(np.float32))\n",
    "    moving_image = sitk.GetImageFromArray(moving_image.astype(np.float32))\n",
    "    \n",
    "    registration = sitk.ImageRegistrationMethod()\n",
    "    initial_transform = sitk.CenteredTransformInitializer(\n",
    "        fixed_image, \n",
    "        moving_image, \n",
    "        sitk.VersorRigid3DTransform(),\n",
    "    )\n",
    "    registration.SetInitialTransform(initial_transform)\n",
    "    registration.SetMetricAsMeanSquares()\n",
    "    registration.SetOptimizerScalesFromPhysicalShift()\n",
    "    registration.SetOptimizerAsRegularStepGradientDescent(\n",
    "        learningRate=2.0,\n",
    "        minStep=1e-8,\n",
    "        numberOfIterations=1000,\n",
    "        gradientMagnitudeTolerance=1e-8,\n",
    "    )\n",
    "\n",
    "    final_transform = registration.Execute(fixed_image, moving_image)\n",
    "\n",
    "    stop_condition = registration.GetOptimizerStopConditionDescription()\n",
    "    num_iterations = registration.GetOptimizerIteration()\n",
    "    metric_value = registration.GetMetricValue()  \n",
    "    status = Status(stop_condition, num_iterations, metric_value)\n",
    "\n",
    "    \n",
    "    # downcast from generic transform to VersorRigid3DTransform\n",
    "    # Allows access to translation and rotation parameters.\n",
    "    final_transform = final_transform.Downcast()  \n",
    "\n",
    "    # Convert parameters to numpy\n",
    "    translation_xyz = final_transform.GetTranslation()\n",
    "    versor = final_transform.GetVersor()\n",
    "\n",
    "    translation = np.array(translation_xyz[::-1])\n",
    "    rotation_euler_degrees = R.from_quat(versor).as_euler('zyx', degrees=True)\n",
    "    result = Transform(translation, rotation_euler_degrees)\n",
    "    \n",
    "    return status, result"
   ]
  },
  {
   "cell_type": "code",
   "execution_count": 3,
   "id": "50ce77d9",
   "metadata": {},
   "outputs": [],
   "source": [
    "def create_images(cavity_centers, cavity_radii, atom_centers, atom_radii,\n",
    "                  shape=None):\n",
    "    if shape is None:\n",
    "        cavity_extent = max_extent(cavity_centers, cavity_radii)\n",
    "        atom_extent = max_extent(atom_centers, atom_radii)\n",
    "        shape = np.ceil(np.maximum(cavity_extent, atom_extent))\n",
    "        shape = tuple(s.astype(np.int64) + 2 for s in shape)\n",
    "    \n",
    "    cavity = spheres(cavity_centers, cavity_radii, shape)\n",
    "    atoms = spheres(atom_centers, atom_radii, shape)\n",
    "    \n",
    "    cavity_edt = ndimage.distance_transform_edt(cavity)\n",
    "    atoms_edt = ndimage.distance_transform_edt(atoms)\n",
    "    \n",
    "    return cavity_edt, atoms_edt\n",
    "\n",
    "def max_extent(centers, radii):\n",
    "    max_extents = np.asarray(centers) + np.asarray(radii)[:,None]\n",
    "    return max_extents.max(axis=0)\n",
    "\n",
    "def spheres(centers, radii, shape):\n",
    "    assert len(centers) == len(radii)\n",
    "    img = np.zeros(shape, np.bool_)\n",
    "    for center, radius in zip(centers, radii):\n",
    "        add_sphere(center, radius, img)\n",
    "    return img        \n",
    "\n",
    "def add_sphere(center, radius, img):\n",
    "    slices = tuple(make_slice(c-radius-1, c+radius+2) for c in center)\n",
    "    img[slices] |= skimage.draw.ellipsoid(radius, radius, radius)\n",
    "    \n",
    "def make_slice(lo, hi):\n",
    "    hi = np.ceil(hi)\n",
    "    return slice(np.int64(lo), np.int64(hi))"
   ]
  },
  {
   "cell_type": "code",
   "execution_count": 4,
   "id": "298a0e9d",
   "metadata": {},
   "outputs": [],
   "source": [
    "cavity_centers = [[15, 15, 15], [15, 20, 20]]\n",
    "cavity_radii = [10, 10]\n",
    "\n",
    "atom_centers = [[15, 15, 15], [15, 15, 23]]\n",
    "atom_radii = [7, 7]\n",
    "\n",
    "cavity_edt, atoms_edt = create_images(cavity_centers, cavity_radii, \n",
    "                                      atom_centers, atom_radii)"
   ]
  },
  {
   "cell_type": "code",
   "execution_count": 5,
   "id": "9ea0a2d9",
   "metadata": {},
   "outputs": [],
   "source": [
    "status, transform = register_3d(cavity_edt, atoms_edt)"
   ]
  },
  {
   "cell_type": "code",
   "execution_count": 6,
   "id": "6c6680b0",
   "metadata": {},
   "outputs": [
    {
     "data": {
      "text/plain": [
       "Status(stop_condition='RegularStepGradientDescentOptimizerv4: Gradient magnitude tolerance met after 157 iterations. Gradient magnitude (9.97968e-09) is less than gradient magnitude tolerance (1e-08).', num_iterations=158, metric_value=1.4387584857741298)"
      ]
     },
     "execution_count": 6,
     "metadata": {},
     "output_type": "execute_result"
    }
   ],
   "source": [
    "status"
   ]
  },
  {
   "cell_type": "code",
   "execution_count": 7,
   "id": "79658cfe",
   "metadata": {},
   "outputs": [
    {
     "data": {
      "text/plain": [
       "Transform(translation=array([-6.23405288e-17, -2.49999995e+00,  1.50228265e+00]), rotation_euler_degrees=array([-45.00015592,   0.        ,   0.        ]))"
      ]
     },
     "execution_count": 7,
     "metadata": {},
     "output_type": "execute_result"
    }
   ],
   "source": [
    "transform"
   ]
  },
  {
   "cell_type": "code",
   "execution_count": null,
   "id": "305eb199",
   "metadata": {},
   "outputs": [],
   "source": []
  }
 ],
 "metadata": {
  "kernelspec": {
   "display_name": "Python 3 (ipykernel)",
   "language": "python",
   "name": "python3"
  },
  "language_info": {
   "codemirror_mode": {
    "name": "ipython",
    "version": 3
   },
   "file_extension": ".py",
   "mimetype": "text/x-python",
   "name": "python",
   "nbconvert_exporter": "python",
   "pygments_lexer": "ipython3",
   "version": "3.8.12"
  }
 },
 "nbformat": 4,
 "nbformat_minor": 5
}
