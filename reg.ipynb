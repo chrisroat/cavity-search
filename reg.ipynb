{
 "cells": [
  {
   "cell_type": "code",
   "execution_count": 2,
   "id": "ebcc5628",
   "metadata": {},
   "outputs": [],
   "source": [
    "import imageio\n",
    "import itk\n",
    "import matplotlib.pyplot as plt\n",
    "import numpy as np\n",
    "import skimage"
   ]
  },
  {
   "cell_type": "code",
   "execution_count": 3,
   "id": "ec1e04b9",
   "metadata": {},
   "outputs": [],
   "source": [
    "def reg2d(fixed_image, moving_image):\n",
    "    fixed_image = itk.GetImageFromArray(fixed_image.astype(np.float32))\n",
    "    moving_image = itk.GetImageFromArray(moving_image.astype(np.float32))\n",
    "    \n",
    "    dimension = fixed_image.GetImageDimension()\n",
    "    FixedImageType = type(fixed_image)\n",
    "    MovingImageType = type(moving_image)\n",
    "\n",
    "    transform = itk.Rigid2DTransform[itk.D].New()\n",
    "\n",
    "    TransformInitializerType = itk.CenteredTransformInitializer[\n",
    "        itk.MatrixOffsetTransformBase[itk.D, dimension, dimension],\n",
    "        FixedImageType,\n",
    "        MovingImageType,\n",
    "    ]\n",
    "    initializer = TransformInitializerType.New(\n",
    "        Transform=transform,\n",
    "        FixedImage=fixed_image,\n",
    "        MovingImage=moving_image,\n",
    "    )\n",
    "    initializer.InitializeTransform()\n",
    "\n",
    "    metric = itk.MeanSquaresImageToImageMetricv4[FixedImageType, MovingImageType].New()\n",
    "\n",
    "    optimizer = itk.RegularStepGradientDescentOptimizerv4.New(\n",
    "        LearningRate=4,\n",
    "        MinimumStepLength=0.001,\n",
    "        RelaxationFactor=0.5,\n",
    "        NumberOfIterations=1000,\n",
    "    )\n",
    "    \n",
    "    scales = optimizer.GetScales()\n",
    "    scales.SetSize(3)\n",
    "    scales.SetElement(0, 200.0) # 1rad rotation has the same weight as 200mm translation\n",
    "    scales.SetElement(1, 1.0)\n",
    "    scales.SetElement(2, 1.0)\n",
    "    optimizer.SetScales(scales)\n",
    "\n",
    "    RegistrationType = itk.ImageRegistrationMethodv4[FixedImageType, MovingImageType]\n",
    "    registration = RegistrationType.New(\n",
    "        Metric=metric,\n",
    "        Optimizer=optimizer,\n",
    "        FixedImage=fixed_image,\n",
    "        MovingImage=moving_image,\n",
    "        InitialTransform=transform,\n",
    "        NumberOfLevels=1,\n",
    "    )\n",
    "\n",
    "    registration.Update()\n",
    "\n",
    "    finalParameters = transform.GetParameters()\n",
    "    finalParameters = itk.array_from_vnl_vector(transform.GetParameters())\n",
    "\n",
    "    numberOfIterations = optimizer.GetCurrentIteration()\n",
    "    bestValue = optimizer.GetValue()\n",
    "\n",
    "    return finalParameters, numberOfIterations, bestValue"
   ]
  },
  {
   "cell_type": "code",
   "execution_count": 4,
   "id": "51943708",
   "metadata": {},
   "outputs": [
    {
     "data": {
      "text/plain": [
       "(array([5.08737259e-04, 1.29995933e+01, 1.69999615e+01]),\n",
       " 40,\n",
       " 0.03739409090253444)"
      ]
     },
     "execution_count": 4,
     "metadata": {},
     "output_type": "execute_result"
    }
   ],
   "source": [
    "fixed_image = imageio.imread('BrainProtonDensitySliceBorder20.png')\n",
    "moving_image = imageio.imread('BrainProtonDensitySliceShifted13x17y.png')\n",
    "\n",
    "reg2d(fixed_image, moving_image)"
   ]
  },
  {
   "cell_type": "code",
   "execution_count": 5,
   "id": "e489e65f",
   "metadata": {},
   "outputs": [],
   "source": [
    "def add_sphere(location, radius, img):\n",
    "    rr, cc = skimage.draw.ellipse(location[0], location[1],\n",
    "                                  radius, radius,\n",
    "                                  img.shape)\n",
    "    img[rr, cc] = True\n",
    "\n",
    "def spheres(info, shape):\n",
    "    img = np.zeros(shape, np.bool_)\n",
    "    for location, radius in info:\n",
    "        add_sphere(location, radius, img)\n",
    "    return img\n",
    "        \n",
    "def reg(cavity_info, atom_info, shape):\n",
    "    cavity = spheres(cavity_info, shape)\n",
    "    atoms = spheres(atom_info, shape)\n",
    "    return cavity, atoms, reg2d(cavity, atoms)"
   ]
  },
  {
   "cell_type": "code",
   "execution_count": 6,
   "id": "d9d2a2c8",
   "metadata": {},
   "outputs": [],
   "source": [
    "c_info = [((15,20), 6), ((20, 20), 6)]\n",
    "a_info = [((15,22), 6), ((20, 22), 6)]\n",
    "\n",
    "cavity, atoms, results = reg(c_info, a_info, (50,50))"
   ]
  },
  {
   "cell_type": "code",
   "execution_count": 7,
   "id": "d4b468d5",
   "metadata": {},
   "outputs": [
    {
     "data": {
      "text/plain": [
       "(array([0.03305866, 1.75683498, 0.15206176]), 11, 3.126112133537907e-05)"
      ]
     },
     "execution_count": 7,
     "metadata": {},
     "output_type": "execute_result"
    }
   ],
   "source": [
    "results"
   ]
  },
  {
   "cell_type": "code",
   "execution_count": null,
   "id": "fa88a3d4",
   "metadata": {},
   "outputs": [],
   "source": []
  }
 ],
 "metadata": {
  "kernelspec": {
   "display_name": "Python 3 (ipykernel)",
   "language": "python",
   "name": "python3"
  },
  "language_info": {
   "codemirror_mode": {
    "name": "ipython",
    "version": 3
   },
   "file_extension": ".py",
   "mimetype": "text/x-python",
   "name": "python",
   "nbconvert_exporter": "python",
   "pygments_lexer": "ipython3",
   "version": "3.8.12"
  }
 },
 "nbformat": 4,
 "nbformat_minor": 5
}
